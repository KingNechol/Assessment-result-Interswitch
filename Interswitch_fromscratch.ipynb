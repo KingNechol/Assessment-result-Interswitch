{
 "cells": [
  {
   "cell_type": "code",
   "execution_count": 1,
   "id": "5a8c59ea",
   "metadata": {},
   "outputs": [],
   "source": [
    "import os\n",
    "import sys\n",
    "\n",
    "os.environ['PYSPARK_PYTHON'] = sys.executable\n",
    "os.environ['PYSPARK_DRIVER_PYTHON'] = sys.executable"
   ]
  },
  {
   "cell_type": "code",
   "execution_count": 2,
   "id": "50d405c0",
   "metadata": {},
   "outputs": [],
   "source": [
    "from datetime import datetime, date\n",
    "import pandas as pd\n",
    "from pyspark.sql import Row\n",
    "from pyspark.sql import SparkSession\n",
    "spark = SparkSession.builder.getOrCreate()"
   ]
  },
  {
   "cell_type": "code",
   "execution_count": 3,
   "id": "f59fa307",
   "metadata": {},
   "outputs": [],
   "source": [
    "from pyspark.sql import SparkSession\n",
    "import calendar\n",
    "import pandas as pd\n",
    "from pyspark.sql.functions import UserDefinedFunction\n",
    "from pyspark.sql.types import StringType\n",
    "from pyspark import SparkContext\n",
    "from datetime import datetime\n",
    "import datetime\n",
    "mydate = datetime.datetime.now()\n",
    "import pandas as pd\n",
    "from time import strptime\n",
    "from time import strftime\n",
    "\n",
    "from pyspark.sql.functions import col, substring, to_date\n",
    "from pyspark.sql.functions import *"
   ]
  },
  {
   "cell_type": "code",
   "execution_count": 4,
   "id": "3906f44e",
   "metadata": {},
   "outputs": [],
   "source": [
    "#final outcome code \n",
    "data=  [\n",
    "[\"  1\",\"FULLY COMPLETE CATI INTERVIEW\"]\n",
    ",[\"  2\",\"PARTIALLY COMPLETED CATI INTERVIEW\"]\n",
    ",[\"  3\",\"COMPLETE BUT PERSONAL VISIT REQUESTED NEXT MONTH\"]\n",
    ",[\"  4\",\"PARTIAL, NOT COMPLETE AT CLOSEOUT\"]\n",
    ",[\"  5\",\"LABOR FORCE COMPLETE, SUPPLEMENT INCOMPLETE - CATI\"]\n",
    ",[\"  6\",\"LF COMPLETE, SUPPLEMENT DK ITEMS INCOMPLETE AT CLOSEOUT–ASEC ONLY\"]\n",
    ",[\" 20\",\"HH OCCUPIED ENTIRELY BY ARMED FORCES MEMBERS OR ALL UNDER 15 YEARS OF AGE\"]\n",
    ",[\"201\",\"CAPI COMPLETE\"]\n",
    ",[\"202\",\"CALLBACK NEEDED\"]\n",
    ",[\"203\",\"SUFFICIENT PARTIAL - PRECLOSEOUT\"]\n",
    ",[\"204\",\"SUFFICIENT PARTIAL - AT CLOSEOUT\"]\n",
    ",[\"205\",\"LABOR FORCE COMPLETE, - SUPPL. INCOMPLETE - CAPI\"]\n",
    ",[\"213\",\"LANGUAGE BARRIER\"]\n",
    ",[\"214\",\"UNABLE TO LOCATE\"]\n",
    ",[\"216\",\"NO ONE HOME\"]\n",
    ",[\"217\",\"TEMPORARILY ABSENT\"]\n",
    ",[\"218\",\"REFUSED\"]\n",
    ",[\"219\",\"OTHER OCCUPIED - SPECIFY\"]\n",
    ",[\"223\",\"ENTIRE HOUSEHOLD ARMED FORCES\"]\n",
    ",[\"224\",\"ENTIRE HOUSEHOLD UNDER 15\"]\n",
    ",[\"225\",\"TEMP. OCCUPIED W/PERSONS WITH URE\"]\n",
    ",[\"226\",\"VACANT REGULAR\"]\n",
    ",[\"227\",\"VACANT - STORAGE OF HHLD FURNITURE\"]\n",
    ",[\"228\",\"UNFIT, TO BE DEMOLISHED\"]\n",
    ",[\"229\",\"UNDER CONSTRUCTION, NOT READY\"]\n",
    ",[\"230\",\"CONVERTED TO TEMP BUSINESS OR STORAGE\"]\n",
    ",[\"231\",\"UNOCCUPIED TENT OR TRAILER SITE\"]\n",
    ",[\"232\",\"PERMIT GRANTED - CONSTRUCTION NOT STARTED\"]\n",
    ",[\"233\",\"OTHER - SPECIFY\"]\n",
    ",[\"240\",\"DEMOLISHED\"]\n",
    ",[\"241\",\"HOUSE OR TRAILER MOVED\"]\n",
    ",[\"242\",\"OUTSIDE SEGMENT\"]\n",
    ",[\"243\",\"CONVERTED TO PERM. BUSINESS OR STORAGE\"]\n",
    ",[\"244\",\"MERGED\"]\n",
    ",[\"245\",\"CONDEMNED\"]\n",
    ",[\"246\",\"BUILT AFTER APRIL 1, 2000\"]\n",
    ",[\"247\",\"UNUSED SERIAL NO./LISTING SHEET LINE\"]\n",
    ",[\"248\",\"OTHER - SPECIFY\"]\n",
    ",[\"256\",\"REMOVED DURING SUB-SAMPLING\"]\n",
    ",[\"257\",\"UNIT ALREADY HAD A CHANCE OF SELECTION\"]]\n",
    "\n",
    "finaloutcomecode = spark.createDataFrame(data,[\"id\",\"outcome\"])"
   ]
  },
  {
   "cell_type": "code",
   "execution_count": 5,
   "id": "ef763561",
   "metadata": {},
   "outputs": [
    {
     "name": "stdout",
     "output_type": "stream",
     "text": [
      "root\n",
      " |-- id: string (nullable = true)\n",
      " |-- outcome: string (nullable = true)\n",
      "\n"
     ]
    }
   ],
   "source": [
    "finaloutcomecode.printSchema()"
   ]
  },
  {
   "cell_type": "code",
   "execution_count": 6,
   "id": "6abfd74b",
   "metadata": {},
   "outputs": [
    {
     "name": "stdout",
     "output_type": "stream",
     "text": [
      "+---+-------------------------------------------------------------------------+\n",
      "|id |outcome                                                                  |\n",
      "+---+-------------------------------------------------------------------------+\n",
      "|  1|FULLY COMPLETE CATI INTERVIEW                                            |\n",
      "|  2|PARTIALLY COMPLETED CATI INTERVIEW                                       |\n",
      "|  3|COMPLETE BUT PERSONAL VISIT REQUESTED NEXT MONTH                         |\n",
      "|  4|PARTIAL, NOT COMPLETE AT CLOSEOUT                                        |\n",
      "|  5|LABOR FORCE COMPLETE, SUPPLEMENT INCOMPLETE - CATI                       |\n",
      "|  6|LF COMPLETE, SUPPLEMENT DK ITEMS INCOMPLETE AT CLOSEOUT–ASEC ONLY        |\n",
      "| 20|HH OCCUPIED ENTIRELY BY ARMED FORCES MEMBERS OR ALL UNDER 15 YEARS OF AGE|\n",
      "|201|CAPI COMPLETE                                                            |\n",
      "|202|CALLBACK NEEDED                                                          |\n",
      "|203|SUFFICIENT PARTIAL - PRECLOSEOUT                                         |\n",
      "|204|SUFFICIENT PARTIAL - AT CLOSEOUT                                         |\n",
      "|205|LABOR FORCE COMPLETE, - SUPPL. INCOMPLETE - CAPI                         |\n",
      "|213|LANGUAGE BARRIER                                                         |\n",
      "|214|UNABLE TO LOCATE                                                         |\n",
      "|216|NO ONE HOME                                                              |\n",
      "|217|TEMPORARILY ABSENT                                                       |\n",
      "|218|REFUSED                                                                  |\n",
      "|219|OTHER OCCUPIED - SPECIFY                                                 |\n",
      "|223|ENTIRE HOUSEHOLD ARMED FORCES                                            |\n",
      "|224|ENTIRE HOUSEHOLD UNDER 15                                                |\n",
      "|225|TEMP. OCCUPIED W/PERSONS WITH URE                                        |\n",
      "|226|VACANT REGULAR                                                           |\n",
      "|227|VACANT - STORAGE OF HHLD FURNITURE                                       |\n",
      "|228|UNFIT, TO BE DEMOLISHED                                                  |\n",
      "|229|UNDER CONSTRUCTION, NOT READY                                            |\n",
      "|230|CONVERTED TO TEMP BUSINESS OR STORAGE                                    |\n",
      "|231|UNOCCUPIED TENT OR TRAILER SITE                                          |\n",
      "|232|PERMIT GRANTED - CONSTRUCTION NOT STARTED                                |\n",
      "|233|OTHER - SPECIFY                                                          |\n",
      "|240|DEMOLISHED                                                               |\n",
      "|241|HOUSE OR TRAILER MOVED                                                   |\n",
      "|242|OUTSIDE SEGMENT                                                          |\n",
      "|243|CONVERTED TO PERM. BUSINESS OR STORAGE                                   |\n",
      "|244|MERGED                                                                   |\n",
      "|245|CONDEMNED                                                                |\n",
      "|246|BUILT AFTER APRIL 1, 2000                                                |\n",
      "|247|UNUSED SERIAL NO./LISTING SHEET LINE                                     |\n",
      "|248|OTHER - SPECIFY                                                          |\n",
      "|256|REMOVED DURING SUB-SAMPLING                                              |\n",
      "|257|UNIT ALREADY HAD A CHANCE OF SELECTION                                   |\n",
      "+---+-------------------------------------------------------------------------+\n",
      "\n"
     ]
    }
   ],
   "source": [
    "finaloutcomecode.show(50,False)"
   ]
  },
  {
   "cell_type": "code",
   "execution_count": 7,
   "id": "9b469938",
   "metadata": {},
   "outputs": [],
   "source": [
    "#type of housing unit\n",
    "\n",
    "data = [\n",
    "[\" 0\",\"OTHER UNIT\"]\n",
    ",[\" 1\",\"HOUSE, APARTMENT, FLAT\"]\n",
    ",[\" 2\",\"HU IN NONTRANSIENT HOTEL, MOTEL, ETC.\"]\n",
    ",[\" 3\",\"HU PERMANENT IN TRANSIENT HOTEL, MOTEL\"]\n",
    ",[\" 4\",\"HU IN ROOMING HOUSE\"]\n",
    ",[\" 5\",\"MOBILE HOME OR TRAILER W/NO PERM. ROOM ADDED\"]\n",
    ",[\" 6\",\"MOBILE HOME OR TRAILER W/1 OR MORE PERM. ROOMS ADDED\"]\n",
    ",[\" 7\",\"HU NOT SPECIFIED ABOVE\"]\n",
    ",[\" 8\",\"QUARTERS NOT HU IN ROOMING OR BRDING HS\"]\n",
    ",[\" 9\",\"UNIT NOT PERM. IN TRANSIENT HOTL, MOTL\"]\n",
    ",[\"10\",\"UNOCCUPIED TENT SITE OR TRLR SITE\"]\n",
    ",[\"11\",\"STUDENT QUARTERS IN COLLEGE DORM\"]\n",
    ",[\"12\",\"OTHER UNIT NOT SPECIFIED ABOVE\"]\n",
    "]\n",
    "\n",
    "typeofhousing = spark.createDataFrame(data,[\"HEHOUSUTid\",\"housing\"])"
   ]
  },
  {
   "cell_type": "code",
   "execution_count": 8,
   "id": "c481c99f",
   "metadata": {},
   "outputs": [
    {
     "name": "stdout",
     "output_type": "stream",
     "text": [
      "root\n",
      " |-- HEHOUSUTid: string (nullable = true)\n",
      " |-- housing: string (nullable = true)\n",
      "\n"
     ]
    }
   ],
   "source": [
    "typeofhousing.printSchema()"
   ]
  },
  {
   "cell_type": "code",
   "execution_count": 9,
   "id": "5f72a14d",
   "metadata": {},
   "outputs": [
    {
     "name": "stdout",
     "output_type": "stream",
     "text": [
      "+----------+----------------------------------------------------+\n",
      "|HEHOUSUTid|housing                                             |\n",
      "+----------+----------------------------------------------------+\n",
      "| 0        |OTHER UNIT                                          |\n",
      "| 1        |HOUSE, APARTMENT, FLAT                              |\n",
      "| 2        |HU IN NONTRANSIENT HOTEL, MOTEL, ETC.               |\n",
      "| 3        |HU PERMANENT IN TRANSIENT HOTEL, MOTEL              |\n",
      "| 4        |HU IN ROOMING HOUSE                                 |\n",
      "| 5        |MOBILE HOME OR TRAILER W/NO PERM. ROOM ADDED        |\n",
      "| 6        |MOBILE HOME OR TRAILER W/1 OR MORE PERM. ROOMS ADDED|\n",
      "| 7        |HU NOT SPECIFIED ABOVE                              |\n",
      "| 8        |QUARTERS NOT HU IN ROOMING OR BRDING HS             |\n",
      "| 9        |UNIT NOT PERM. IN TRANSIENT HOTL, MOTL              |\n",
      "|10        |UNOCCUPIED TENT SITE OR TRLR SITE                   |\n",
      "|11        |STUDENT QUARTERS IN COLLEGE DORM                    |\n",
      "+----------+----------------------------------------------------+\n",
      "only showing top 12 rows\n",
      "\n"
     ]
    }
   ],
   "source": [
    "typeofhousing.show(12,False)"
   ]
  },
  {
   "cell_type": "code",
   "execution_count": 24,
   "id": "ad6d3c12",
   "metadata": {},
   "outputs": [],
   "source": [
    "#house hold type\n",
    "\n",
    "data = [[\" 0\",\"NON-INTERVIEW HOUSEHOLD\"]\n",
    ",[\" 1\",\"HUSBAND/WIFE PRIMARY FAMILY (NEITHER AF)\"]\n",
    ",[\" 2\",\"HUSB/WIFE PRIM. FAMILY (EITHER/BOTH AF)\"]\n",
    ",[\" 3\",\"UNMARRIED CIVILIAN MALE-PRIM. FAM HHLDER\"]\n",
    ",[\" 4\",\"UNMARRIED CIV. FEMALE-PRIM FAM HHLDER\"]\n",
    ",[\" 5\",\"PRIMARY FAMILY HHLDER-RP IN AF, UNMAR.\"]\n",
    ",[\" 6\",\"CIVILIAN MALE PRIMARY INDIVIDUAL\"]\n",
    ",[\" 7\",\"CIVILIAN FEMALE PRIMARY INDIVIDUAL\"]\n",
    ",[\" 8\",\"PRIMARY INDIVIDUAL HHLD-RP IN AF\"]\n",
    ",[\" 9\",\"GROUP QUARTERS WITH FAMILY\"]\n",
    ",[\"10\",\"GROUP QUARTERS WITHOUT FAMILY\"]]\n",
    "\n",
    "householdtype = spark.createDataFrame(data,[\"HRHTYPEid\",\"housetype\"])"
   ]
  },
  {
   "cell_type": "code",
   "execution_count": 25,
   "id": "da0f6281",
   "metadata": {},
   "outputs": [
    {
     "name": "stdout",
     "output_type": "stream",
     "text": [
      "+---------+----------------------------------------+\n",
      "|HRHTYPEid|housetype                               |\n",
      "+---------+----------------------------------------+\n",
      "| 0       |NON-INTERVIEW HOUSEHOLD                 |\n",
      "| 1       |HUSBAND/WIFE PRIMARY FAMILY (NEITHER AF)|\n",
      "| 2       |HUSB/WIFE PRIM. FAMILY (EITHER/BOTH AF) |\n",
      "| 3       |UNMARRIED CIVILIAN MALE-PRIM. FAM HHLDER|\n",
      "| 4       |UNMARRIED CIV. FEMALE-PRIM FAM HHLDER   |\n",
      "| 5       |PRIMARY FAMILY HHLDER-RP IN AF, UNMAR.  |\n",
      "| 6       |CIVILIAN MALE PRIMARY INDIVIDUAL        |\n",
      "| 7       |CIVILIAN FEMALE PRIMARY INDIVIDUAL      |\n",
      "| 8       |PRIMARY INDIVIDUAL HHLD-RP IN AF        |\n",
      "| 9       |GROUP QUARTERS WITH FAMILY              |\n",
      "|10       |GROUP QUARTERS WITHOUT FAMILY           |\n",
      "+---------+----------------------------------------+\n",
      "\n"
     ]
    }
   ],
   "source": [
    "householdtype.show(12,False)"
   ]
  },
  {
   "cell_type": "code",
   "execution_count": 12,
   "id": "b2f6159f",
   "metadata": {},
   "outputs": [],
   "source": [
    "#type of interview \n",
    "\n",
    "data= [[\" 0\",\"NONINTERVIEW/INDETERMINATE\"]            \n",
    ",[\" 1\",\"PERSONAL\"]\n",
    ",[\" 2\",\"TELEPHONE\"]]\n",
    "\n",
    "typeofinterview = spark.createDataFrame(data,[\"HUINTTYPid\",\"interviewtype\"])"
   ]
  },
  {
   "cell_type": "code",
   "execution_count": 26,
   "id": "2668889f",
   "metadata": {},
   "outputs": [
    {
     "name": "stdout",
     "output_type": "stream",
     "text": [
      "+----------+--------------------------+\n",
      "|HUINTTYPid|interviewtype             |\n",
      "+----------+--------------------------+\n",
      "| 0        |NONINTERVIEW/INDETERMINATE|\n",
      "| 1        |PERSONAL                  |\n",
      "| 2        |TELEPHONE                 |\n",
      "+----------+--------------------------+\n",
      "\n"
     ]
    }
   ],
   "source": [
    "typeofinterview.show(10,False)"
   ]
  },
  {
   "cell_type": "code",
   "execution_count": 27,
   "id": "66874ad5",
   "metadata": {},
   "outputs": [],
   "source": [
    "#family income range\n",
    "\n",
    "data = [[\" 1\",\"LESS THAN $5,000\"]\n",
    ",[\" 2\",\"5,000 TO 7,499\"]\n",
    ",[\" 3\",\"7,500 TO 9,999\"]\n",
    ",[\" 4\",\"10,000 TO 12,499\"]\n",
    ",[\" 5\",\"12,500 TO 14,999\"]\n",
    ",[\" 6\",\"15,000 TO 19,999\"]\n",
    ",[\" 7\",\"20,000 TO 24,999\"]\n",
    ",[\" 8\",\"25,000 TO 29,999\"]\n",
    ",[\" 9\",\"30,000 TO 34,999\"]\n",
    ",[\"10\",\"35,000 TO 39,999\"]\n",
    ",[\"11\",\"40,000 TO 49,999\"]\n",
    ",[\"12\",\"50,000 TO 59,999\"]\n",
    ",[\"13\",\"60,000 TO 74,999\"]\n",
    ",[\"14\",\"75,000 TO 99,999\"]\n",
    ",[\"15\",\"100,000 TO 149,999\"]\n",
    ",[\"16\",\"150,000 OR MORE\"]]\n",
    "\n",
    "familyincrange = spark.createDataFrame(data,[\"HEFAMINCid\",\"famincrange\"])"
   ]
  },
  {
   "cell_type": "code",
   "execution_count": 28,
   "id": "7edeca33",
   "metadata": {},
   "outputs": [
    {
     "name": "stdout",
     "output_type": "stream",
     "text": [
      "+----------+----------------+\n",
      "|HEFAMINCid|famincrange     |\n",
      "+----------+----------------+\n",
      "| 1        |LESS THAN $5,000|\n",
      "| 2        |5,000 TO 7,499  |\n",
      "| 3        |7,500 TO 9,999  |\n",
      "| 4        |10,000 TO 12,499|\n",
      "| 5        |12,500 TO 14,999|\n",
      "| 6        |15,000 TO 19,999|\n",
      "| 7        |20,000 TO 24,999|\n",
      "| 8        |25,000 TO 29,999|\n",
      "| 9        |30,000 TO 34,999|\n",
      "|10        |35,000 TO 39,999|\n",
      "+----------+----------------+\n",
      "only showing top 10 rows\n",
      "\n"
     ]
    }
   ],
   "source": [
    "familyincrange.show(10,False)"
   ]
  },
  {
   "cell_type": "code",
   "execution_count": 29,
   "id": "9f74cd82",
   "metadata": {},
   "outputs": [],
   "source": [
    "#geographical division\n",
    "\n",
    "data= [[\"1\",\"NEW ENGLAND\"]\n",
    ",[\"2\",\"MIDDLE ATLANTIC\"]\n",
    ",[\"3\",\"EAST NORTH CENTRAL\"]\n",
    ",[\"4\",\"WEST NORTH CENTRAL\"]\n",
    ",[\"5\",\"SOUTH ATLANTIC\"]\n",
    ",[\"6\",\"EAST SOUTH CENTRAL\"]\n",
    ",[\"7\",\"WEST SOUTH CENTRAL\"]\n",
    ",[\"8\",\"MOUNTAIN\"]\n",
    ",[\"9\",\"PACIFIC\"]]\n",
    "\n",
    "geodivision = spark.createDataFrame(data,[\"GEDIVid\",\"geodivision\"])"
   ]
  },
  {
   "cell_type": "code",
   "execution_count": 30,
   "id": "e4783cc1",
   "metadata": {},
   "outputs": [
    {
     "name": "stdout",
     "output_type": "stream",
     "text": [
      "+-------+------------------+\n",
      "|GEDIVid|geodivision       |\n",
      "+-------+------------------+\n",
      "|1      |NEW ENGLAND       |\n",
      "|2      |MIDDLE ATLANTIC   |\n",
      "|3      |EAST NORTH CENTRAL|\n",
      "|4      |WEST NORTH CENTRAL|\n",
      "|5      |SOUTH ATLANTIC    |\n",
      "|6      |EAST SOUTH CENTRAL|\n",
      "|7      |WEST SOUTH CENTRAL|\n",
      "|8      |MOUNTAIN          |\n",
      "|9      |PACIFIC           |\n",
      "+-------+------------------+\n",
      "\n"
     ]
    }
   ],
   "source": [
    "geodivision.show(10,False)"
   ]
  },
  {
   "cell_type": "code",
   "execution_count": 31,
   "id": "378422fc",
   "metadata": {},
   "outputs": [],
   "source": [
    "# Race\n",
    "\n",
    "data= [[\" 1\",\"White Only\"]\n",
    ",[\" 2\",\"Black Only\"]\n",
    ",[\" 3\",\"American Indian, Alaskan Native Only\"]\n",
    ",[\" 4\",\"Asian Only\"]\n",
    ",[\" 5\",\"Hawaiian/Pacific Islander Only\"]\n",
    ",[\" 6\",\"White-Black\"]      \n",
    ",[\" 7\",\"White-AI\"]\n",
    ",[\" 8\",\"White-Asian\"]\n",
    ",[\" 9\",\"White-HP\"]\n",
    ",[\"10\",\"Black-AI\"]\n",
    ",[\"11\",\"Black-Asian\"]\n",
    ",[\"12\",\"Black-HP\"]\n",
    ",[\"13\",\"AI-Asian\"]\n",
    ",[\"14\",\"AI-HP\"]\n",
    ",[\"15\",\"Asian-HP\"]\n",
    ",[\"16\",\"W-B-AI\"]\n",
    ",[\"17\",\"W-B-A\"]\n",
    ",[\"18\",\"W-B-HP\"]\n",
    ",[\"19\",\"W-AI-A\"]\n",
    ",[\"20\",\"W-AI-HP\"]\n",
    ",[\"21\",\"W-A-HP\"]\n",
    ",[\"22\",\"B-AI-A\"]\n",
    ",[\"23\",\"W-B-AI-A\"]\n",
    ",[\"24\",\"W-AI-A-HP\"]      \n",
    ",[\"25\",\"Other 3 Race Combinations\"]\n",
    ",[\"26\",\"Other 4 and 5 Race Combinations\"]]\n",
    "\n",
    "Race = spark.createDataFrame(data,[\"PTDTRACEid\",\"race\"])"
   ]
  },
  {
   "cell_type": "code",
   "execution_count": 32,
   "id": "5e0ee48e",
   "metadata": {},
   "outputs": [
    {
     "name": "stdout",
     "output_type": "stream",
     "text": [
      "+----------+------------------------------------+\n",
      "|PTDTRACEid|race                                |\n",
      "+----------+------------------------------------+\n",
      "| 1        |White Only                          |\n",
      "| 2        |Black Only                          |\n",
      "| 3        |American Indian, Alaskan Native Only|\n",
      "| 4        |Asian Only                          |\n",
      "| 5        |Hawaiian/Pacific Islander Only      |\n",
      "| 6        |White-Black                         |\n",
      "| 7        |White-AI                            |\n",
      "| 8        |White-Asian                         |\n",
      "| 9        |White-HP                            |\n",
      "|10        |Black-AI                            |\n",
      "|11        |Black-Asian                         |\n",
      "|12        |Black-HP                            |\n",
      "|13        |AI-Asian                            |\n",
      "|14        |AI-HP                               |\n",
      "|15        |Asian-HP                            |\n",
      "|16        |W-B-AI                              |\n",
      "|17        |W-B-A                               |\n",
      "|18        |W-B-HP                              |\n",
      "|19        |W-AI-A                              |\n",
      "|20        |W-AI-HP                             |\n",
      "|21        |W-A-HP                              |\n",
      "|22        |B-AI-A                              |\n",
      "|23        |W-B-AI-A                            |\n",
      "|24        |W-AI-A-HP                           |\n",
      "|25        |Other 3 Race Combinations           |\n",
      "|26        |Other 4 and 5 Race Combinations     |\n",
      "+----------+------------------------------------+\n",
      "\n"
     ]
    }
   ],
   "source": [
    "Race.show(30,False)"
   ]
  },
  {
   "cell_type": "code",
   "execution_count": 33,
   "id": "9a267c2e",
   "metadata": {},
   "outputs": [
    {
     "name": "stdout",
     "output_type": "stream",
     "text": [
      "+----------------------------------------------------------------------------------------------------------------------------------------------------------------------------------------------------------------------------------------------------------------------------------------------------------------------------------------------------------------------------------------------------------------------------------------------------------------------------------------------------------------------------------------------------------------------------------------------------------------------------------------------------------------------------------------------------------------------------------------------------------------------------------------------------------------------------------------------------------------------------------------------------------------------------------------------------------------------------------------------------------------------------------------+\n",
      "|_c0                                                                                                                                                                                                                                                                                                                                                                                                                                                                                                                                                                                                                                                                                                                                                                                                                                                                                                                                                                                                                                     |\n",
      "+----------------------------------------------------------------------------------------------------------------------------------------------------------------------------------------------------------------------------------------------------------------------------------------------------------------------------------------------------------------------------------------------------------------------------------------------------------------------------------------------------------------------------------------------------------------------------------------------------------------------------------------------------------------------------------------------------------------------------------------------------------------------------------------------------------------------------------------------------------------------------------------------------------------------------------------------------------------------------------------------------------------------------------------+\n",
      "|000004795110719122017 120100-1 1 1-1 1 9-1-1-1  14394041 1 2 1 7 2 0 206011 2  2-1-1-1-1 36 01 266200001103000   -1-1 1-1710 1 2 1 1-1 242 1-1 9-1 1-1 1 1 1 2 1 2 57 57 57 1 0 0 1 6 2-1-1 2-1-1-1-1 1-1-1-1-1-1-1-1-1-1-1-1-1 -1-1-1-1-1-1-1-1-1-1-1 -1-1-1   -1-1-1-1-1-1-1-1-1-1-1-1-1 -1-1-1-1-1-1-1-1-1-1-1-1-1-1-1-1-1-1-1-1-1-1-1-1-1-1-1-1-1 -1-1-1-1-1-1-1-1-1-1-1-1-1-1-1-1-1-1-1-1-1-1 2-1 0 4-1-1-1-1-1-1 -1-1-1 0 1 2-1-1-1-1-1-1-1-1      -1-1      -1-1-1 0-1-1-1-1-1-1-1-1-1-1-1-1-1-1-1-1-1-1-1 0-1-1-1-1  -1  -1  -1  -10-1      -10-1-1      -1      -10-1-1-1-1-1-1-1-1 2-1-1-1-1  14394041  31009204         0  21825725  21562240 0 0 0-1-1-1 0 0 1 0-1 050 0 0 0 0 0 0 0 0-1-1-1 0 0 0 1-1-1-1-1-1-1 1-1-1-1-1-1-1-1-1-1-1-1-1-1-1-1-1-1-1-1-1 1 1 1 1 1 1 1 1 1 1 1-1-1-1-1-1-1-1-1-1-1-1 0 0-1-1-1-1-1-1 1 1 1-1-1-1   84 1-1-1 3-1-1-1 1 1 0-1-1-1  22089944  -1  -1  -1  -1-1-1 4 3-1-1 0-1-1-1-1-15050 1 1 1 2 2 2 1 2 2 1 0 0 0 0 0 0 0-1-1-1-1-1 2-1-120 0 0                                            A|\n",
      "|000004795110719122017 120100-1 1 1-1 1 9-1-1-1  14394041 1 2 1 7 2 0 206011 2  2-1-1-1-1 36 01 266200001103000   -1-1 3-1640 1 1 2 2-1 240 1-1 9-1 2-1 1 2 1 2 1 2 57 57 57 1 0 0 2 5 3-1-1 2-1-1-1 1-1 2-1-1-1-1-1-1-1-1-1-1-1 -1-1-1-1-1-1-1-1-1-1-1 -1-1-1   -1-1-1-1-1-1-1-1-1-1-1-1-1 -1-1-1-1-1-1-1-1-1-1-1-1-1-1-1-1-1-1-1-1-1-1-1-1-1-1-1-1-1 -1-1-1-1-1-1-1-1-1-1-1-1-1-1-1-1-1-1-1-1-1-1 2-1 0 4-1-1-1-1-1-1 -1-1-1 0 1 2-1-1-1-1-1-1-1-1      -1-1      -1-1-1 0-1-1-1-1-1-1-1-1-1-1-1-1-1-1-1-1-1-1-1 0-1-1-1-1  -1  -1  -1  -10-1      -10-1-1      -1      -10-1-1-1-1-1-1-1-1 2-1-1-1-1  14394041  20499878         0  14394041  14569169 0 0 0-1-1-1 0 0 1 0-1 050 0 0 0 0 1 0 0 0-1-1-1 0 0 0 0-1-1-1-1-1-1 1-1-1-1-1-1-1-1-1-1-1-1-1-1-1-1-1-1-1-1-1 1 1 1 1 1 1 1 1 1 1 1-1-1-1-1-1-1-1-1-1-1-1 0 0-1-1-1-1-1-1 1 1 1-1-1-1   84 2-1-1 2-1-1-1 1 1 0-1-1-1  14571037  -1  -1  -1  -1-1-1-1-1-1-1 0-1-1-1-1-15050 1 1 1 2 2 2 2 2 2 2 0 0 0 0 0 0 0-1-1-1-1-1 2-1-120 0 0                                            A|\n",
      "|000071691004941122017 120100-1 1 1-1 111-1-1-1  17523079 1 3 1 5 1 1 306111 2  2-1-1-1-1 36 01 266200001103000   -1-1 1-1720 1 2 1 1-1 240 1-1 9-1 1-1 1 1 1 2 1 2 57 57 57 1 0 0 1 1 1-1-1-1-1-1-1-1-1-1-1-1-1-1-1-1 2-146-1-1 46-1-1-1-1 2-1 2-146-1 46-1-1    2 5 5-1 2 3 5 2-1-1-1-1-1 -1-1-1-1-1-1-1-1-1-1-1-1-1-1-1-1-1-1-1-1-1-1-1-1-1-1-1-1-1 -1-1-1-1-1-1-1-1-1-1-1-1-1-1-1-1-1-1-1-1-1-1 1-119 1 1 1 5-1-1-1 -1-1-1 1 2-1-1-1-1-1-1-1 4 4      -1-1       2-1-1 1 2 4-1 1 6-138-122-1 1 9-110-1 6 1 1 1 0-1-1-1-1  -1  -1  -1  -10-1      -10-1-1      -1      -10-1-1-1-1-1-1-1-1-1-1-1-1-1  17523079         0         0  15256712  14453219 0 0 1-1-1-1 0 0 1 0-1 050 0 0 0 0 0 0 0 0-1-1-1 1 0 0-1 1 1 0 1 0 1 1 0 1 1 1 0 1 0 1 1-1-1-1-1-1-1-1-1-1-1-1-1-1-1-1-1-1-1-1-1-1-1 0 0 0-1-1-1-1-1-1-1-1-1-1-1-1-1-1-1-1-1-1-1-1-1-1 3531 1-1-1 4-1-1-1 1 1 0-1-1-1  1480694075809140  -1  -114-1 4-1-1-1 0-1-1-1-1-15050 1 1 1 2 2 2 2 2 2 2 0 0 0 0 0 0 0-1-1-1-1-1 2-1-1 0 0 0                                            A|\n",
      "|000071691004941122017 120100-1 1 1-1 111-1-1-1  17523079 1 3 1 5 1 1 306111 2  2-1-1-1-1 36 01 266200001103000   -1-1 3-1720 1 1 2 2-1 240 1-1 9-1 2-1 1 2 1 2 1 2 57 57 57 1 0 0 2 5 3-1-1 2-1-1-1-1-1 2-1-1-1-1-1-1-1-1-1-1-1 -1-1-1-1-1-1-1-1-1-1-1 -1-1-1   -1-1-1-1-1-1-1-1-1-1-1-1-1 -1-1-1-1-1-1-1-1-1-1-1-1-1-1-1-1-1-1-1-1-1-1-1-1-1-1-1-1-1 -1-1-1-1-1-1-1-1-1-1-1-1-1-1-1-1-1-1-1-1-1-1 2-1 0 4-1-1-1-1-1-1 -1-1-1 0 1 2-1-1-1-1-1-1-1-1      -1-1      -1-1-1 0-1-1-1-1-1-1-1-1-1-1-1-1-1-1-1-1-1-1-1 0-1-1-1-1  -1  -1  -1  -10-1      -10-1-1      -1      -10-1-1-1-1-1-1-1-1 2-1-1-1-1  17523079         0         0  17523079  17710843 0 0 0-1-1-1 0 0 1 0-1 050 0 0 0 0 1 0 0 0-1-1-1 0 0 0 0-1-1-1-1-1-1 1-1-1-1-1-1-1-1-1-1-1-1-1-1-1-1-1-1-1-1-1 1 1 1 1 1 1 1 1 1 1 1-1-1-1-1-1-1-1-1-1-1-1 0 0-1-1-1-1-1-1 1 1 1-1-1-1 3531 2-1-1 3-1-1-1 1 1 0-1-1-1  17710356  -1  -1  -1  -1-1-1-1-1-1-1 0-1-1-1-1-15050 1 1 1 2 2 2 2 2 2 2 0 0 0 0 0 0 0-1-1-1-1-1 2-1-1 0 0 0                                            A|\n",
      "+----------------------------------------------------------------------------------------------------------------------------------------------------------------------------------------------------------------------------------------------------------------------------------------------------------------------------------------------------------------------------------------------------------------------------------------------------------------------------------------------------------------------------------------------------------------------------------------------------------------------------------------------------------------------------------------------------------------------------------------------------------------------------------------------------------------------------------------------------------------------------------------------------------------------------------------------------------------------------------------------------------------------------------------+\n",
      "only showing top 4 rows\n",
      "\n"
     ]
    }
   ],
   "source": [
    "df = spark.read.csv('E:/Users/Bluechip/Tobi/PROJECTS/interswitch/dec17pub/dec17pub.dat', sep='::')\n",
    "df.show(4,False)"
   ]
  },
  {
   "cell_type": "code",
   "execution_count": 34,
   "id": "34eaea60",
   "metadata": {},
   "outputs": [],
   "source": [
    "df2 = df.select(\n",
    "    (substring('_c0', 1, 15)).alias(\"HRHHID\"),\\\n",
    "    (substring('_c0', 18, 4)).alias(\"HRYEAR4\"),\\\n",
    "    (substring('_c0', 16, 2)).alias(\"HRMONTH\"),\\\n",
    "    (substring('_c0', 24, 3)).alias(\"HUFINAL\"),\\\n",
    "    (substring('_c0', 31, 2)).alias(\"HEHOUSUT\"),\\\n",
    "    (substring('_c0', 61, 2)).alias(\"HRHTYPE\"),\\\n",
    "    (substring('_c0', 33, 2)).alias(\"HETELHHD\"),\\\n",
    "    (substring('_c0', 35, 2)).alias(\"HETELAVL\"),\\\n",
    "    (substring('_c0', 37, 2)).alias(\"HEPHONEO\"),\\\n",
    "    (substring('_c0', 65, 2)).alias(\"HUINTTYP\"),\\\n",
    "    (substring('_c0', 39, 2)).alias(\"HEFAMINC\"),\\\n",
    "    (substring('_c0', 91, 1)).alias(\"GEREG_GEDIV\"),\\\n",
    "    (substring('_c0', 139, 2)).alias(\"PTDTRACE\")\n",
    ")"
   ]
  },
  {
   "cell_type": "code",
   "execution_count": 35,
   "id": "6e36ea0b",
   "metadata": {},
   "outputs": [
    {
     "name": "stdout",
     "output_type": "stream",
     "text": [
      "+---------------+-------+-------+-------+--------+-------+--------+--------+--------+--------+--------+-----------+--------+\n",
      "|         HRHHID|HRYEAR4|HRMONTH|HUFINAL|HEHOUSUT|HRHTYPE|HETELHHD|HETELAVL|HEPHONEO|HUINTTYP|HEFAMINC|GEREG_GEDIV|PTDTRACE|\n",
      "+---------------+-------+-------+-------+--------+-------+--------+--------+--------+--------+--------+-----------+--------+\n",
      "|000004795110719|   2017|     12|    201|       1|      1|       1|      -1|       1|       2|       9|          6|       1|\n",
      "|000004795110719|   2017|     12|    201|       1|      1|       1|      -1|       1|       2|       9|          6|       1|\n",
      "|000071691004941|   2017|     12|    201|       1|      1|       1|      -1|       1|       1|      11|          6|       1|\n",
      "|000071691004941|   2017|     12|    201|       1|      1|       1|      -1|       1|       1|      11|          6|       1|\n",
      "|000071691004941|   2017|     12|    201|       1|      1|       1|      -1|       1|       1|      11|          6|       1|\n",
      "|000110177987986|   2017|     12|    201|       1|      1|       1|      -1|       1|       1|      14|          6|       2|\n",
      "|000110177987986|   2017|     12|    201|       1|      1|       1|      -1|       1|       1|      14|          6|       2|\n",
      "|000110206593381|   2017|     12|    213|       1|      0|      -1|      -1|       0|       1|      -1|          6|      -1|\n",
      "|000110284815680|   2017|     12|    201|       1|      7|       1|      -1|       1|       1|       9|          6|       1|\n",
      "|000110327856469|   2017|     12|    201|       1|      7|       1|      -1|       1|       1|       5|          6|       2|\n",
      "+---------------+-------+-------+-------+--------+-------+--------+--------+--------+--------+--------+-----------+--------+\n",
      "only showing top 10 rows\n",
      "\n"
     ]
    }
   ],
   "source": [
    "df2.show(10)"
   ]
  },
  {
   "cell_type": "code",
   "execution_count": 36,
   "id": "0f392576",
   "metadata": {},
   "outputs": [],
   "source": [
    "df2b = df2.select(df2.HRHHID,df2.HRYEAR4,concat_ws('-',df2.HRYEAR4,df2.HRMONTH,df2.HRMONTH).alias(\"fullDate\")\n",
    "              ,df2.HUFINAL\n",
    ",df2.HEHOUSUT\n",
    ",df2.HRHTYPE\n",
    ",df2.HETELHHD\n",
    ",df2.HETELAVL\n",
    ",df2.HEPHONEO\n",
    ",df2.HUINTTYP\n",
    ",df2.HEFAMINC\n",
    ",df2.GEREG_GEDIV\n",
    ",df2.PTDTRACE\n",
    "   \n",
    "                 )"
   ]
  },
  {
   "cell_type": "code",
   "execution_count": 37,
   "id": "9f9c1034",
   "metadata": {},
   "outputs": [],
   "source": [
    " #to_date(col(\"fullDate\",\"MMM\").alias(\"newMonth\"),\\\n",
    "df2c = df2b.select(col(\"HRHHID\"),\n",
    "                   col(\"HRYEAR4\"),   \n",
    "                    to_date(col(\"fullDate\"),\"yyyy-MM-dd\").alias(\"NewFullDate\"),\n",
    "                   col(\"HUFINAL\") \n",
    "                ,df2.HEHOUSUT\n",
    ",df2.HRHTYPE\n",
    ",df2.HETELHHD\n",
    ",df2.HETELAVL\n",
    ",df2.HEPHONEO\n",
    ",df2.HUINTTYP\n",
    ",df2.HEFAMINC\n",
    ",df2.GEREG_GEDIV\n",
    ",df2.PTDTRACE\n",
    "\n",
    "           )"
   ]
  },
  {
   "cell_type": "code",
   "execution_count": 26,
   "id": "6c51becc",
   "metadata": {},
   "outputs": [
    {
     "name": "stdout",
     "output_type": "stream",
     "text": [
      "+---------------+--------+-------+--------+-------+--------+--------+--------+--------+--------+-----------+--------+\n",
      "|HRHHID         |ToI     |HUFINAL|HEHOUSUT|HRHTYPE|HETELHHD|HETELAVL|HEPHONEO|HUINTTYP|HEFAMINC|GEREG_GEDIV|PTDTRACE|\n",
      "+---------------+--------+-------+--------+-------+--------+--------+--------+--------+--------+-----------+--------+\n",
      "|000004795110719|2017/Dec|201    | 1      | 1     | 1      |-1      | 1      | 2      | 9      |6          | 1      |\n",
      "|000004795110719|2017/Dec|201    | 1      | 1     | 1      |-1      | 1      | 2      | 9      |6          | 1      |\n",
      "|000071691004941|2017/Dec|201    | 1      | 1     | 1      |-1      | 1      | 1      |11      |6          | 1      |\n",
      "|000071691004941|2017/Dec|201    | 1      | 1     | 1      |-1      | 1      | 1      |11      |6          | 1      |\n",
      "|000071691004941|2017/Dec|201    | 1      | 1     | 1      |-1      | 1      | 1      |11      |6          | 1      |\n",
      "|000110177987986|2017/Dec|201    | 1      | 1     | 1      |-1      | 1      | 1      |14      |6          | 2      |\n",
      "|000110177987986|2017/Dec|201    | 1      | 1     | 1      |-1      | 1      | 1      |14      |6          | 2      |\n",
      "|000110206593381|2017/Dec|213    | 1      | 0     |-1      |-1      | 0      | 1      |-1      |6          |-1      |\n",
      "|000110284815680|2017/Dec|201    | 1      | 7     | 1      |-1      | 1      | 1      | 9      |6          | 1      |\n",
      "|000110327856469|2017/Dec|201    | 1      | 7     | 1      |-1      | 1      | 1      | 5      |6          | 2      |\n",
      "+---------------+--------+-------+--------+-------+--------+--------+--------+--------+--------+-----------+--------+\n",
      "only showing top 10 rows\n",
      "\n"
     ]
    }
   ],
   "source": [
    "df2c.select(\n",
    "    col(\"HRHHID\")\n",
    "            ,concat_ws('/', col(\"HRYEAR4\"),date_format(col(\"NewFullDate\"),\"MMM\")).alias(\"ToI\")\n",
    "                ,col(\"HUFINAL\") \n",
    "                ,df2c.HEHOUSUT\n",
    ",df2c.HRHTYPE\n",
    ",df2c.HETELHHD\n",
    ",df2c.HETELAVL\n",
    ",df2c.HEPHONEO\n",
    ",df2c.HUINTTYP\n",
    ",df2c.HEFAMINC\n",
    ",df2c.GEREG_GEDIV\n",
    ",df2c.PTDTRACE\n",
    "                        ).show(10,False\n",
    "                              )"
   ]
  },
  {
   "cell_type": "code",
   "execution_count": 38,
   "id": "b9f27dea",
   "metadata": {},
   "outputs": [],
   "source": [
    "joinType = \"outer\"\n",
    "joinexpression = df2c[\"HUFINAL\"]==finaloutcomecode['id']\n",
    "df2d =df2c.join(finaloutcomecode,joinexpression,joinType)"
   ]
  },
  {
   "cell_type": "code",
   "execution_count": 39,
   "id": "7468fc75",
   "metadata": {},
   "outputs": [
    {
     "name": "stdout",
     "output_type": "stream",
     "text": [
      "+---------------+-------+-----------+-------+--------+-------+--------+--------+--------+--------+--------+-----------+--------+---+--------------------+\n",
      "|         HRHHID|HRYEAR4|NewFullDate|HUFINAL|HEHOUSUT|HRHTYPE|HETELHHD|HETELAVL|HEPHONEO|HUINTTYP|HEFAMINC|GEREG_GEDIV|PTDTRACE| id|             outcome|\n",
      "+---------------+-------+-----------+-------+--------+-------+--------+--------+--------+--------+--------+-----------+--------+---+--------------------+\n",
      "|000110651278174|   2017| 2017-12-12|      1|       1|      6|       1|      -1|       1|      -1|       6|          6|       1|  1|FULLY COMPLETE CA...|\n",
      "|000110757985751|   2017| 2017-12-12|      1|       1|      1|       1|      -1|       1|      -1|       6|          6|       2|  1|FULLY COMPLETE CA...|\n",
      "|000110757985751|   2017| 2017-12-12|      1|       1|      1|       1|      -1|       1|      -1|       6|          6|       2|  1|FULLY COMPLETE CA...|\n",
      "|000111086055225|   2017| 2017-12-12|      1|      12|     10|       1|      -1|       1|      -1|       8|          6|       2|  1|FULLY COMPLETE CA...|\n",
      "|004830111011101|   2017| 2017-12-12|      1|       1|      6|       1|      -1|       1|      -1|      12|          6|       1|  1|FULLY COMPLETE CA...|\n",
      "|010044110402905|   2017| 2017-12-12|      1|       1|      1|       1|      -1|       1|      -1|      16|          6|       1|  1|FULLY COMPLETE CA...|\n",
      "|010044110402905|   2017| 2017-12-12|      1|       1|      1|       1|      -1|       1|      -1|      16|          6|       4|  1|FULLY COMPLETE CA...|\n",
      "|025021445009561|   2017| 2017-12-12|      1|       1|      1|       2|       2|       1|      -1|      13|          6|       1|  1|FULLY COMPLETE CA...|\n",
      "|025021445009561|   2017| 2017-12-12|      1|       1|      1|       2|       2|       1|      -1|      13|          6|       1|  1|FULLY COMPLETE CA...|\n",
      "|046031801006701|   2017| 2017-12-12|      1|       1|      6|       1|      -1|       1|      -1|      12|          6|       1|  1|FULLY COMPLETE CA...|\n",
      "|109000054110244|   2017| 2017-12-12|      1|       1|      6|       1|      -1|       1|      -1|      12|          6|       1|  1|FULLY COMPLETE CA...|\n",
      "|134440010035445|   2017| 2017-12-12|      1|       1|      1|       1|      -1|       1|      -1|      15|          6|       2|  1|FULLY COMPLETE CA...|\n",
      "|134440010035445|   2017| 2017-12-12|      1|       1|      1|       1|      -1|       1|      -1|      15|          6|       2|  1|FULLY COMPLETE CA...|\n",
      "|134440010035445|   2017| 2017-12-12|      1|       1|      1|       1|      -1|       1|      -1|      15|          6|       2|  1|FULLY COMPLETE CA...|\n",
      "|134530444451000|   2017| 2017-12-12|      1|       1|      6|       1|      -1|       1|      -1|       7|          6|       2|  1|FULLY COMPLETE CA...|\n",
      "|143910278321000|   2017| 2017-12-12|      1|       1|      6|       1|      -1|       1|      -1|       6|          6|       1|  1|FULLY COMPLETE CA...|\n",
      "|159500010056453|   2017| 2017-12-12|      1|       1|      7|       1|      -1|       1|      -1|      15|          6|       1|  1|FULLY COMPLETE CA...|\n",
      "|159500010056453|   2017| 2017-12-12|      1|       1|      7|       1|      -1|       1|      -1|      15|          6|       1|  1|FULLY COMPLETE CA...|\n",
      "|162310010077921|   2017| 2017-12-12|      1|       1|      1|       1|      -1|       1|      -1|      16|          6|       1|  1|FULLY COMPLETE CA...|\n",
      "|162310010077921|   2017| 2017-12-12|      1|       1|      1|       1|      -1|       1|      -1|      16|          6|       1|  1|FULLY COMPLETE CA...|\n",
      "+---------------+-------+-----------+-------+--------+-------+--------+--------+--------+--------+--------+-----------+--------+---+--------------------+\n",
      "only showing top 20 rows\n",
      "\n"
     ]
    }
   ],
   "source": [
    "df2d.show()"
   ]
  },
  {
   "cell_type": "code",
   "execution_count": 40,
   "id": "37be860f",
   "metadata": {},
   "outputs": [
    {
     "name": "stdout",
     "output_type": "stream",
     "text": [
      "root\n",
      " |-- HRHHID: string (nullable = true)\n",
      " |-- HRYEAR4: string (nullable = true)\n",
      " |-- NewFullDate: date (nullable = true)\n",
      " |-- HUFINAL: string (nullable = true)\n",
      " |-- HEHOUSUT: string (nullable = true)\n",
      " |-- HRHTYPE: string (nullable = true)\n",
      " |-- HETELHHD: string (nullable = true)\n",
      " |-- HETELAVL: string (nullable = true)\n",
      " |-- HEPHONEO: string (nullable = true)\n",
      " |-- HUINTTYP: string (nullable = true)\n",
      " |-- HEFAMINC: string (nullable = true)\n",
      " |-- GEREG_GEDIV: string (nullable = true)\n",
      " |-- PTDTRACE: string (nullable = true)\n",
      " |-- id: string (nullable = true)\n",
      " |-- outcome: string (nullable = true)\n",
      " |-- HEHOUSUTid: string (nullable = true)\n",
      " |-- housing: string (nullable = true)\n",
      "\n"
     ]
    }
   ],
   "source": [
    "joinType = \"outer\"\n",
    "joinexpression = df2c[\"HEHOUSUT\"]==typeofhousing['HEHOUSUTid']\n",
    "df2e =df2d.join(typeofhousing,joinexpression,joinType)\n",
    "df2e.printSchema()"
   ]
  },
  {
   "cell_type": "code",
   "execution_count": 41,
   "id": "8b7a5963",
   "metadata": {},
   "outputs": [],
   "source": [
    "df2f=df2e.select(\"HRHHID\",\"HRYEAR4\",\"NewFullDate\",\"outcome\",\"housing\",\"HRHTYPE\",\"HETELHHD\",\"HETELAVL\",\"HEPHONEO\",\"HUINTTYP\",\"HEFAMINC\"\n",
    "           ,\"GEREG_GEDIV\",\"PTDTRACE\")\n"
   ]
  },
  {
   "cell_type": "code",
   "execution_count": 42,
   "id": "8ca79ad4",
   "metadata": {},
   "outputs": [
    {
     "name": "stdout",
     "output_type": "stream",
     "text": [
      "root\n",
      " |-- HRHHID: string (nullable = true)\n",
      " |-- HRYEAR4: string (nullable = true)\n",
      " |-- NewFullDate: date (nullable = true)\n",
      " |-- outcome: string (nullable = true)\n",
      " |-- housing: string (nullable = true)\n",
      " |-- HRHTYPE: string (nullable = true)\n",
      " |-- HETELHHD: string (nullable = true)\n",
      " |-- HETELAVL: string (nullable = true)\n",
      " |-- HEPHONEO: string (nullable = true)\n",
      " |-- HUINTTYP: string (nullable = true)\n",
      " |-- HEFAMINC: string (nullable = true)\n",
      " |-- GEREG_GEDIV: string (nullable = true)\n",
      " |-- PTDTRACE: string (nullable = true)\n",
      " |-- HRHTYPEid: string (nullable = true)\n",
      " |-- housetype: string (nullable = true)\n",
      "\n"
     ]
    }
   ],
   "source": [
    "joinType = \"outer\"\n",
    "joinexpression = df2f[\"HRHTYPE\"]==householdtype['housetype']\n",
    "df2g =df2f.join(householdtype,joinexpression,joinType)\n",
    "df2g.printSchema()"
   ]
  },
  {
   "cell_type": "code",
   "execution_count": 43,
   "id": "7eacbe6a",
   "metadata": {},
   "outputs": [],
   "source": [
    "df2h=df2g.select(\"HRHHID\",\"HRYEAR4\",\"NewFullDate\",\"outcome\",\"housing\",\"housetype\",\"HETELHHD\",\"HETELAVL\",\"HEPHONEO\",\"HUINTTYP\",\"HEFAMINC\"\n",
    "           ,\"GEREG_GEDIV\",\"PTDTRACE\")"
   ]
  },
  {
   "cell_type": "code",
   "execution_count": 44,
   "id": "bf19a571",
   "metadata": {},
   "outputs": [
    {
     "name": "stdout",
     "output_type": "stream",
     "text": [
      "+------+-------+-----------+--------------------+-------+---------+--------+--------+--------+--------+--------+-----------+--------+\n",
      "|HRHHID|HRYEAR4|NewFullDate|             outcome|housing|housetype|HETELHHD|HETELAVL|HEPHONEO|HUINTTYP|HEFAMINC|GEREG_GEDIV|PTDTRACE|\n",
      "+------+-------+-----------+--------------------+-------+---------+--------+--------+--------+--------+--------+-----------+--------+\n",
      "|  null|   null|       null|COMPLETE BUT PERS...|   null|     null|    null|    null|    null|    null|    null|       null|    null|\n",
      "|  null|   null|       null|LABOR FORCE COMPL...|   null|     null|    null|    null|    null|    null|    null|       null|    null|\n",
      "|  null|   null|       null|LF COMPLETE, SUPP...|   null|     null|    null|    null|    null|    null|    null|       null|    null|\n",
      "|  null|   null|       null|     CALLBACK NEEDED|   null|     null|    null|    null|    null|    null|    null|       null|    null|\n",
      "|  null|   null|       null|LABOR FORCE COMPL...|   null|     null|    null|    null|    null|    null|    null|       null|    null|\n",
      "+------+-------+-----------+--------------------+-------+---------+--------+--------+--------+--------+--------+-----------+--------+\n",
      "only showing top 5 rows\n",
      "\n"
     ]
    }
   ],
   "source": [
    "df2h.show(5)"
   ]
  },
  {
   "cell_type": "code",
   "execution_count": 45,
   "id": "a3587e00",
   "metadata": {},
   "outputs": [
    {
     "name": "stdout",
     "output_type": "stream",
     "text": [
      "root\n",
      " |-- HRHHID: string (nullable = true)\n",
      " |-- HRYEAR4: string (nullable = true)\n",
      " |-- NewFullDate: date (nullable = true)\n",
      " |-- outcome: string (nullable = true)\n",
      " |-- housing: string (nullable = true)\n",
      " |-- housetype: string (nullable = true)\n",
      " |-- HETELHHD: string (nullable = true)\n",
      " |-- HETELAVL: string (nullable = true)\n",
      " |-- HEPHONEO: string (nullable = true)\n",
      " |-- HUINTTYP: string (nullable = true)\n",
      " |-- HEFAMINC: string (nullable = true)\n",
      " |-- GEREG_GEDIV: string (nullable = true)\n",
      " |-- PTDTRACE: string (nullable = true)\n",
      " |-- HUINTTYPid: string (nullable = true)\n",
      " |-- interviewtype: string (nullable = true)\n",
      "\n"
     ]
    }
   ],
   "source": [
    "joinType = \"outer\"\n",
    "joinexpression = df2f[\"HUINTTYP\"]==typeofinterview['HUINTTYPid']\n",
    "df2i =df2h.join(typeofinterview,joinexpression,joinType)\n",
    "df2i.printSchema()"
   ]
  },
  {
   "cell_type": "code",
   "execution_count": 46,
   "id": "f2839bb9",
   "metadata": {},
   "outputs": [],
   "source": [
    "df2j=df2i.select(\"HRHHID\",\"HRYEAR4\",\"NewFullDate\",\"outcome\",\"housing\",\"housetype\",\"HETELHHD\",\"HETELAVL\",\"HEPHONEO\",\"interviewtype\",\"HEFAMINC\"\n",
    "           ,\"GEREG_GEDIV\",\"PTDTRACE\")"
   ]
  },
  {
   "cell_type": "code",
   "execution_count": 48,
   "id": "146f91be",
   "metadata": {},
   "outputs": [
    {
     "name": "stdout",
     "output_type": "stream",
     "text": [
      "+---------------+-------+-----------+-----------------------------------------------------------------+--------------------------------------+----------------------------------------+--------+--------+--------+--------------------------+--------+-----------+--------+\n",
      "|HRHHID         |HRYEAR4|NewFullDate|outcome                                                          |housing                               |housetype                               |HETELHHD|HETELAVL|HEPHONEO|interviewtype             |HEFAMINC|GEREG_GEDIV|PTDTRACE|\n",
      "+---------------+-------+-----------+-----------------------------------------------------------------+--------------------------------------+----------------------------------------+--------+--------+--------+--------------------------+--------+-----------+--------+\n",
      "|null           |null   |null       |COMPLETE BUT PERSONAL VISIT REQUESTED NEXT MONTH                 |null                                  |null                                    |null    |null    |null    |null                      |null    |null       |null    |\n",
      "|null           |null   |null       |LABOR FORCE COMPLETE, SUPPLEMENT INCOMPLETE - CATI               |null                                  |null                                    |null    |null    |null    |null                      |null    |null       |null    |\n",
      "|null           |null   |null       |LF COMPLETE, SUPPLEMENT DK ITEMS INCOMPLETE AT CLOSEOUT–ASEC ONLY|null                                  |null                                    |null    |null    |null    |null                      |null    |null       |null    |\n",
      "|null           |null   |null       |CALLBACK NEEDED                                                  |null                                  |null                                    |null    |null    |null    |null                      |null    |null       |null    |\n",
      "|null           |null   |null       |LABOR FORCE COMPLETE, - SUPPL. INCOMPLETE - CAPI                 |null                                  |null                                    |null    |null    |null    |null                      |null    |null       |null    |\n",
      "|null           |null   |null       |BUILT AFTER APRIL 1, 2000                                        |null                                  |null                                    |null    |null    |null    |null                      |null    |null       |null    |\n",
      "|null           |null   |null       |REMOVED DURING SUB-SAMPLING                                      |null                                  |null                                    |null    |null    |null    |null                      |null    |null       |null    |\n",
      "|null           |null   |null       |UNIT ALREADY HAD A CHANCE OF SELECTION                           |null                                  |null                                    |null    |null    |null    |null                      |null    |null       |null    |\n",
      "|null           |null   |null       |null                                                             |OTHER UNIT                            |null                                    |null    |null    |null    |null                      |null    |null       |null    |\n",
      "|null           |null   |null       |null                                                             |UNIT NOT PERM. IN TRANSIENT HOTL, MOTL|null                                    |null    |null    |null    |null                      |null    |null       |null    |\n",
      "|null           |null   |null       |null                                                             |null                                  |CIVILIAN FEMALE PRIMARY INDIVIDUAL      |null    |null    |null    |null                      |null    |null       |null    |\n",
      "|null           |null   |null       |null                                                             |null                                  |CIVILIAN MALE PRIMARY INDIVIDUAL        |null    |null    |null    |null                      |null    |null       |null    |\n",
      "|null           |null   |null       |null                                                             |null                                  |GROUP QUARTERS WITH FAMILY              |null    |null    |null    |null                      |null    |null       |null    |\n",
      "|null           |null   |null       |null                                                             |null                                  |GROUP QUARTERS WITHOUT FAMILY           |null    |null    |null    |null                      |null    |null       |null    |\n",
      "|null           |null   |null       |null                                                             |null                                  |HUSB/WIFE PRIM. FAMILY (EITHER/BOTH AF) |null    |null    |null    |null                      |null    |null       |null    |\n",
      "|null           |null   |null       |null                                                             |null                                  |HUSBAND/WIFE PRIMARY FAMILY (NEITHER AF)|null    |null    |null    |null                      |null    |null       |null    |\n",
      "|null           |null   |null       |null                                                             |null                                  |NON-INTERVIEW HOUSEHOLD                 |null    |null    |null    |null                      |null    |null       |null    |\n",
      "|null           |null   |null       |null                                                             |null                                  |PRIMARY FAMILY HHLDER-RP IN AF, UNMAR.  |null    |null    |null    |null                      |null    |null       |null    |\n",
      "|null           |null   |null       |null                                                             |null                                  |PRIMARY INDIVIDUAL HHLD-RP IN AF        |null    |null    |null    |null                      |null    |null       |null    |\n",
      "|null           |null   |null       |null                                                             |null                                  |UNMARRIED CIV. FEMALE-PRIM FAM HHLDER   |null    |null    |null    |null                      |null    |null       |null    |\n",
      "|null           |null   |null       |null                                                             |null                                  |UNMARRIED CIVILIAN MALE-PRIM. FAM HHLDER|null    |null    |null    |null                      |null    |null       |null    |\n",
      "|null           |null   |null       |null                                                             |null                                  |null                                    |null    |null    |null    |NONINTERVIEW/INDETERMINATE|null    |null       |null    |\n",
      "|000110206593381|2017   |2017-12-12 |LANGUAGE BARRIER                                                 |HOUSE, APARTMENT, FLAT                |null                                    |-1      |-1      | 0      |PERSONAL                  |-1      |6          |-1      |\n",
      "|703061701430101|2017   |2017-12-12 |LANGUAGE BARRIER                                                 |HOUSE, APARTMENT, FLAT                |null                                    |-1      |-1      | 0      |PERSONAL                  |-1      |5          |-1      |\n",
      "|810101294198538|2017   |2017-12-12 |LANGUAGE BARRIER                                                 |HOUSE, APARTMENT, FLAT                |null                                    |-1      |-1      | 0      |PERSONAL                  |-1      |7          |-1      |\n",
      "|706420677910349|2017   |2017-12-12 |LANGUAGE BARRIER                                                 |HOUSE, APARTMENT, FLAT                |null                                    |-1      |-1      | 0      |PERSONAL                  |-1      |8          |-1      |\n",
      "|000411473562743|2017   |2017-12-12 |UNABLE TO LOCATE                                                 |HOUSE, APARTMENT, FLAT                |null                                    | 1      |-1      | 1      |PERSONAL                  |-1      |8          |-1      |\n",
      "|212150515092390|2017   |2017-12-12 |UNABLE TO LOCATE                                                 |HOUSE, APARTMENT, FLAT                |null                                    |-1      |-1      | 0      |PERSONAL                  |-1      |1          |-1      |\n",
      "|351929009000938|2017   |2017-12-12 |NO ONE HOME                                                      |HOUSE, APARTMENT, FLAT                |null                                    | 1      |-1      | 1      |PERSONAL                  |-1      |9          |-1      |\n",
      "|210404430886994|2017   |2017-12-12 |NO ONE HOME                                                      |HOUSE, APARTMENT, FLAT                |null                                    |-1      |-1      | 1      |PERSONAL                  |-1      |8          |-1      |\n",
      "|010000113071402|2017   |2017-12-12 |NO ONE HOME                                                      |HOUSE, APARTMENT, FLAT                |null                                    |-1      |-1      | 0      |PERSONAL                  |-1      |8          |-1      |\n",
      "|697010321621000|2017   |2017-12-12 |NO ONE HOME                                                      |HOUSE, APARTMENT, FLAT                |null                                    |-1      |-1      | 0      |PERSONAL                  |-1      |9          |-1      |\n",
      "|090096888004221|2017   |2017-12-12 |NO ONE HOME                                                      |HOUSE, APARTMENT, FLAT                |null                                    |-1      |-1      | 0      |PERSONAL                  |-1      |9          |-1      |\n",
      "|072954301941103|2017   |2017-12-12 |NO ONE HOME                                                      |HOUSE, APARTMENT, FLAT                |null                                    | 1      |-1      | 0      |PERSONAL                  |-1      |5          |-1      |\n",
      "|091022054810601|2017   |2017-12-12 |NO ONE HOME                                                      |HOUSE, APARTMENT, FLAT                |null                                    |-1      |-1      | 1      |PERSONAL                  |-1      |5          |-1      |\n",
      "|135511020123982|2017   |2017-12-12 |NO ONE HOME                                                      |HOUSE, APARTMENT, FLAT                |null                                    | 1      |-1      | 1      |PERSONAL                  |-1      |5          |-1      |\n",
      "|255430567881001|2017   |2017-12-12 |NO ONE HOME                                                      |HOUSE, APARTMENT, FLAT                |null                                    | 1      |-1      | 1      |PERSONAL                  |-1      |5          |-1      |\n",
      "|521155016010796|2017   |2017-12-12 |NO ONE HOME                                                      |HOUSE, APARTMENT, FLAT                |null                                    |-1      |-1      | 1      |PERSONAL                  |-1      |9          |-1      |\n",
      "|822170258141001|2017   |2017-12-12 |NO ONE HOME                                                      |HOUSE, APARTMENT, FLAT                |null                                    | 1      |-1      | 1      |PERSONAL                  |-1      |3          |-1      |\n",
      "|331184005410344|2017   |2017-12-12 |NO ONE HOME                                                      |HOUSE, APARTMENT, FLAT                |null                                    | 1      |-1      | 1      |PERSONAL                  |-1      |3          |-1      |\n",
      "|204220716008075|2017   |2017-12-12 |NO ONE HOME                                                      |HOUSE, APARTMENT, FLAT                |null                                    |-1      |-1      | 1      |PERSONAL                  |-1      |4          |-1      |\n",
      "|010003122253460|2017   |2017-12-12 |NO ONE HOME                                                      |HOUSE, APARTMENT, FLAT                |null                                    |-1      |-1      | 0      |PERSONAL                  |-1      |4          |-1      |\n",
      "|121440983571002|2017   |2017-12-12 |NO ONE HOME                                                      |HOUSE, APARTMENT, FLAT                |null                                    |-1      |-1      | 0      |PERSONAL                  |-1      |6          |-1      |\n",
      "|311631006820245|2017   |2017-12-12 |NO ONE HOME                                                      |HOUSE, APARTMENT, FLAT                |null                                    |-1      |-1      | 0      |PERSONAL                  |-1      |1          |-1      |\n",
      "|961133017820346|2017   |2017-12-12 |NO ONE HOME                                                      |HOUSE, APARTMENT, FLAT                |null                                    | 1      |-1      | 1      |PERSONAL                  |-1      |1          |-1      |\n",
      "|030070541305631|2017   |2017-12-12 |NO ONE HOME                                                      |HOUSE, APARTMENT, FLAT                |null                                    |-1      |-1      | 0      |PERSONAL                  |-1      |8          |-1      |\n",
      "|185963030010158|2017   |2017-12-12 |NO ONE HOME                                                      |HOUSE, APARTMENT, FLAT                |null                                    |-1      |-1      | 0      |PERSONAL                  |-1      |1          |-1      |\n",
      "|303310619033473|2017   |2017-12-12 |NO ONE HOME                                                      |HOUSE, APARTMENT, FLAT                |null                                    |-1      |-1      | 0      |PERSONAL                  |-1      |2          |-1      |\n",
      "|400580195861103|2017   |2017-12-12 |NO ONE HOME                                                      |HOUSE, APARTMENT, FLAT                |null                                    |-1      |-1      | 1      |PERSONAL                  |-1      |2          |-1      |\n",
      "|414740226951003|2017   |2017-12-12 |NO ONE HOME                                                      |HOUSE, APARTMENT, FLAT                |null                                    |-1      |-1      | 0      |PERSONAL                  |-1      |2          |-1      |\n",
      "+---------------+-------+-----------+-----------------------------------------------------------------+--------------------------------------+----------------------------------------+--------+--------+--------+--------------------------+--------+-----------+--------+\n",
      "only showing top 50 rows\n",
      "\n"
     ]
    }
   ],
   "source": [
    "df2j.show(50,False)"
   ]
  },
  {
   "cell_type": "code",
   "execution_count": 49,
   "id": "76396be0",
   "metadata": {
    "scrolled": true
   },
   "outputs": [
    {
     "name": "stdout",
     "output_type": "stream",
     "text": [
      "root\n",
      " |-- HRHHID: string (nullable = true)\n",
      " |-- HRYEAR4: string (nullable = true)\n",
      " |-- NewFullDate: date (nullable = true)\n",
      " |-- outcome: string (nullable = true)\n",
      " |-- housing: string (nullable = true)\n",
      " |-- housetype: string (nullable = true)\n",
      " |-- HETELHHD: string (nullable = true)\n",
      " |-- HETELAVL: string (nullable = true)\n",
      " |-- HEPHONEO: string (nullable = true)\n",
      " |-- interviewtype: string (nullable = true)\n",
      " |-- HEFAMINC: string (nullable = true)\n",
      " |-- GEREG_GEDIV: string (nullable = true)\n",
      " |-- PTDTRACE: string (nullable = true)\n",
      " |-- HEFAMINCid: string (nullable = true)\n",
      " |-- famincrange: string (nullable = true)\n",
      "\n"
     ]
    }
   ],
   "source": [
    "joinType = \"outer\"\n",
    "joinexpression = df2j[\"HEFAMINC\"]==familyincrange['HEFAMINCid']\n",
    "df2k =df2j.join(familyincrange,joinexpression,joinType)\n",
    "df2k.printSchema()"
   ]
  },
  {
   "cell_type": "code",
   "execution_count": 50,
   "id": "4a310fa5",
   "metadata": {},
   "outputs": [],
   "source": [
    "df2l=df2k.select(\"HRHHID\",\"HRYEAR4\",\"NewFullDate\",\"outcome\",\"housing\",\"housetype\",\"HETELHHD\",\"HETELAVL\",\"HEPHONEO\",\"interviewtype\",\"famincrange\"\n",
    "           ,\"GEREG_GEDIV\",\"PTDTRACE\")"
   ]
  },
  {
   "cell_type": "code",
   "execution_count": 51,
   "id": "f80910ad",
   "metadata": {},
   "outputs": [
    {
     "name": "stdout",
     "output_type": "stream",
     "text": [
      "+---------------+-------+-----------+-------------+----------------------+---------+--------+--------+--------+-------------+--------------+-----------+--------+\n",
      "|HRHHID         |HRYEAR4|NewFullDate|outcome      |housing               |housetype|HETELHHD|HETELAVL|HEPHONEO|interviewtype|famincrange   |GEREG_GEDIV|PTDTRACE|\n",
      "+---------------+-------+-----------+-------------+----------------------+---------+--------+--------+--------+-------------+--------------+-----------+--------+\n",
      "|109780010080209|2017   |2017-12-12 |CAPI COMPLETE|HOUSE, APARTMENT, FLAT|null     | 1      |-1      | 1      |PERSONAL     |7,500 TO 9,999|6          | 2      |\n",
      "|109780010080209|2017   |2017-12-12 |CAPI COMPLETE|HOUSE, APARTMENT, FLAT|null     | 1      |-1      | 1      |PERSONAL     |7,500 TO 9,999|6          | 2      |\n",
      "|803002912110638|2017   |2017-12-12 |CAPI COMPLETE|HOUSE, APARTMENT, FLAT|null     | 1      |-1      | 1      |PERSONAL     |7,500 TO 9,999|6          | 1      |\n",
      "|803002912110638|2017   |2017-12-12 |CAPI COMPLETE|HOUSE, APARTMENT, FLAT|null     | 1      |-1      | 1      |PERSONAL     |7,500 TO 9,999|6          | 1      |\n",
      "|803002912110638|2017   |2017-12-12 |CAPI COMPLETE|HOUSE, APARTMENT, FLAT|null     | 1      |-1      | 1      |PERSONAL     |7,500 TO 9,999|6          | 1      |\n",
      "|803002912110638|2017   |2017-12-12 |CAPI COMPLETE|HOUSE, APARTMENT, FLAT|null     | 1      |-1      | 1      |PERSONAL     |7,500 TO 9,999|6          | 1      |\n",
      "|205004824410237|2017   |2017-12-12 |CAPI COMPLETE|HOUSE, APARTMENT, FLAT|null     | 1      |-1      | 1      |PERSONAL     |7,500 TO 9,999|8          | 1      |\n",
      "|205004824410237|2017   |2017-12-12 |CAPI COMPLETE|HOUSE, APARTMENT, FLAT|null     | 1      |-1      | 1      |PERSONAL     |7,500 TO 9,999|8          | 1      |\n",
      "|205004824410237|2017   |2017-12-12 |CAPI COMPLETE|HOUSE, APARTMENT, FLAT|null     | 1      |-1      | 1      |PERSONAL     |7,500 TO 9,999|8          | 1      |\n",
      "|205004824410237|2017   |2017-12-12 |CAPI COMPLETE|HOUSE, APARTMENT, FLAT|null     | 1      |-1      | 1      |PERSONAL     |7,500 TO 9,999|8          | 1      |\n",
      "|205004824410237|2017   |2017-12-12 |CAPI COMPLETE|HOUSE, APARTMENT, FLAT|null     | 1      |-1      | 1      |PERSONAL     |7,500 TO 9,999|8          | 1      |\n",
      "|205004824410237|2017   |2017-12-12 |CAPI COMPLETE|HOUSE, APARTMENT, FLAT|null     | 1      |-1      | 1      |PERSONAL     |7,500 TO 9,999|8          | 1      |\n",
      "|000510406459822|2017   |2017-12-12 |CAPI COMPLETE|HOUSE, APARTMENT, FLAT|null     | 1      |-1      | 1      |PERSONAL     |7,500 TO 9,999|7          | 1      |\n",
      "|000510406459822|2017   |2017-12-12 |CAPI COMPLETE|HOUSE, APARTMENT, FLAT|null     | 1      |-1      | 1      |PERSONAL     |7,500 TO 9,999|7          | 1      |\n",
      "|000510406459822|2017   |2017-12-12 |CAPI COMPLETE|HOUSE, APARTMENT, FLAT|null     | 1      |-1      | 1      |PERSONAL     |7,500 TO 9,999|7          | 1      |\n",
      "|000510107330989|2017   |2017-12-12 |CAPI COMPLETE|HOUSE, APARTMENT, FLAT|null     | 1      |-1      | 0      |PERSONAL     |7,500 TO 9,999|7          | 1      |\n",
      "|000510107330989|2017   |2017-12-12 |CAPI COMPLETE|HOUSE, APARTMENT, FLAT|null     | 1      |-1      | 0      |PERSONAL     |7,500 TO 9,999|7          | 1      |\n",
      "|009055339004811|2017   |2017-12-12 |CAPI COMPLETE|HOUSE, APARTMENT, FLAT|null     | 1      |-1      | 0      |PERSONAL     |7,500 TO 9,999|7          | 1      |\n",
      "|009055339004811|2017   |2017-12-12 |CAPI COMPLETE|HOUSE, APARTMENT, FLAT|null     | 1      |-1      | 0      |PERSONAL     |7,500 TO 9,999|7          | 1      |\n",
      "|162400050089345|2017   |2017-12-12 |CAPI COMPLETE|HOUSE, APARTMENT, FLAT|null     | 1      |-1      | 1      |PERSONAL     |7,500 TO 9,999|7          | 2      |\n",
      "|162400050089345|2017   |2017-12-12 |CAPI COMPLETE|HOUSE, APARTMENT, FLAT|null     | 1      |-1      | 1      |PERSONAL     |7,500 TO 9,999|7          | 2      |\n",
      "|515820270941000|2017   |2017-12-12 |CAPI COMPLETE|HOUSE, APARTMENT, FLAT|null     | 2      | 2      | 0      |PERSONAL     |7,500 TO 9,999|7          | 2      |\n",
      "|515820270941000|2017   |2017-12-12 |CAPI COMPLETE|HOUSE, APARTMENT, FLAT|null     | 2      | 2      | 0      |PERSONAL     |7,500 TO 9,999|7          | 2      |\n",
      "|006216001111006|2017   |2017-12-12 |CAPI COMPLETE|HOUSE, APARTMENT, FLAT|null     | 1      |-1      | 1      |PERSONAL     |7,500 TO 9,999|9          | 1      |\n",
      "|006216001111006|2017   |2017-12-12 |CAPI COMPLETE|HOUSE, APARTMENT, FLAT|null     | 1      |-1      | 1      |PERSONAL     |7,500 TO 9,999|9          | 1      |\n",
      "|222023145610298|2017   |2017-12-12 |CAPI COMPLETE|HOUSE, APARTMENT, FLAT|null     | 1      |-1      | 1      |PERSONAL     |7,500 TO 9,999|9          | 1      |\n",
      "|222023145610298|2017   |2017-12-12 |CAPI COMPLETE|HOUSE, APARTMENT, FLAT|null     | 1      |-1      | 1      |PERSONAL     |7,500 TO 9,999|9          | 1      |\n",
      "|222023145610298|2017   |2017-12-12 |CAPI COMPLETE|HOUSE, APARTMENT, FLAT|null     | 1      |-1      | 1      |PERSONAL     |7,500 TO 9,999|9          | 1      |\n",
      "|009952412036626|2017   |2017-12-12 |CAPI COMPLETE|HOUSE, APARTMENT, FLAT|null     | 1      |-1      | 1      |PERSONAL     |7,500 TO 9,999|9          | 4      |\n",
      "|009952412036626|2017   |2017-12-12 |CAPI COMPLETE|HOUSE, APARTMENT, FLAT|null     | 1      |-1      | 1      |PERSONAL     |7,500 TO 9,999|9          | 4      |\n",
      "|200611421946624|2017   |2017-12-12 |CAPI COMPLETE|HOUSE, APARTMENT, FLAT|null     | 1      |-3      | 0      |PERSONAL     |7,500 TO 9,999|9          | 4      |\n",
      "|200611421946624|2017   |2017-12-12 |CAPI COMPLETE|HOUSE, APARTMENT, FLAT|null     | 1      |-3      | 0      |PERSONAL     |7,500 TO 9,999|9          | 4      |\n",
      "|498577801320000|2017   |2017-12-12 |CAPI COMPLETE|HOUSE, APARTMENT, FLAT|null     | 1      |-1      | 0      |PERSONAL     |7,500 TO 9,999|8          | 2      |\n",
      "|498577801320000|2017   |2017-12-12 |CAPI COMPLETE|HOUSE, APARTMENT, FLAT|null     | 1      |-1      | 0      |PERSONAL     |7,500 TO 9,999|8          | 1      |\n",
      "|609008108810330|2017   |2017-12-12 |CAPI COMPLETE|HOUSE, APARTMENT, FLAT|null     | 1      |-1      | 1      |PERSONAL     |7,500 TO 9,999|8          | 1      |\n",
      "|609008108810330|2017   |2017-12-12 |CAPI COMPLETE|HOUSE, APARTMENT, FLAT|null     | 1      |-1      | 1      |PERSONAL     |7,500 TO 9,999|8          | 1      |\n",
      "|010013358698185|2017   |2017-12-12 |CAPI COMPLETE|HOUSE, APARTMENT, FLAT|null     | 1      |-1      | 0      |PERSONAL     |7,500 TO 9,999|5          | 4      |\n",
      "|010013358698185|2017   |2017-12-12 |CAPI COMPLETE|HOUSE, APARTMENT, FLAT|null     | 1      |-1      | 0      |PERSONAL     |7,500 TO 9,999|5          | 4      |\n",
      "|010013358698185|2017   |2017-12-12 |CAPI COMPLETE|HOUSE, APARTMENT, FLAT|null     | 1      |-1      | 0      |PERSONAL     |7,500 TO 9,999|5          | 4      |\n",
      "|021001110105316|2017   |2017-12-12 |CAPI COMPLETE|HOUSE, APARTMENT, FLAT|null     | 1      |-1      | 1      |PERSONAL     |7,500 TO 9,999|5          | 1      |\n",
      "|021001110105316|2017   |2017-12-12 |CAPI COMPLETE|HOUSE, APARTMENT, FLAT|null     | 1      |-1      | 1      |PERSONAL     |7,500 TO 9,999|5          | 1      |\n",
      "|121294180300227|2017   |2017-12-12 |CAPI COMPLETE|HOUSE, APARTMENT, FLAT|null     | 2      | 2      | 0      |PERSONAL     |7,500 TO 9,999|5          | 1      |\n",
      "|121294180300227|2017   |2017-12-12 |CAPI COMPLETE|HOUSE, APARTMENT, FLAT|null     | 2      | 2      | 0      |PERSONAL     |7,500 TO 9,999|5          | 1      |\n",
      "|186271020130345|2017   |2017-12-12 |CAPI COMPLETE|HOUSE, APARTMENT, FLAT|null     | 1      |-1      | 1      |PERSONAL     |7,500 TO 9,999|5          | 4      |\n",
      "|186271020130345|2017   |2017-12-12 |CAPI COMPLETE|HOUSE, APARTMENT, FLAT|null     | 1      |-1      | 1      |PERSONAL     |7,500 TO 9,999|5          | 4      |\n",
      "|186271020130345|2017   |2017-12-12 |CAPI COMPLETE|HOUSE, APARTMENT, FLAT|null     | 1      |-1      | 1      |PERSONAL     |7,500 TO 9,999|5          | 4      |\n",
      "|609107748210152|2017   |2017-12-12 |CAPI COMPLETE|HOUSE, APARTMENT, FLAT|null     | 1      |-1      | 1      |PERSONAL     |7,500 TO 9,999|5          | 1      |\n",
      "|609107748210152|2017   |2017-12-12 |CAPI COMPLETE|HOUSE, APARTMENT, FLAT|null     | 1      |-1      | 1      |PERSONAL     |7,500 TO 9,999|5          | 1      |\n",
      "|177291020272739|2017   |2017-12-12 |CAPI COMPLETE|HOUSE, APARTMENT, FLAT|null     | 1      |-1      | 0      |PERSONAL     |7,500 TO 9,999|5          | 1      |\n",
      "|177291020272739|2017   |2017-12-12 |CAPI COMPLETE|HOUSE, APARTMENT, FLAT|null     | 1      |-1      | 0      |PERSONAL     |7,500 TO 9,999|5          | 1      |\n",
      "+---------------+-------+-----------+-------------+----------------------+---------+--------+--------+--------+-------------+--------------+-----------+--------+\n",
      "only showing top 50 rows\n",
      "\n"
     ]
    }
   ],
   "source": [
    "df2l.show(50,False\n",
    "         )"
   ]
  },
  {
   "cell_type": "code",
   "execution_count": 52,
   "id": "53b30a74",
   "metadata": {},
   "outputs": [
    {
     "name": "stdout",
     "output_type": "stream",
     "text": [
      "root\n",
      " |-- HRHHID: string (nullable = true)\n",
      " |-- HRYEAR4: string (nullable = true)\n",
      " |-- NewFullDate: date (nullable = true)\n",
      " |-- outcome: string (nullable = true)\n",
      " |-- housing: string (nullable = true)\n",
      " |-- housetype: string (nullable = true)\n",
      " |-- HETELHHD: string (nullable = true)\n",
      " |-- HETELAVL: string (nullable = true)\n",
      " |-- HEPHONEO: string (nullable = true)\n",
      " |-- interviewtype: string (nullable = true)\n",
      " |-- famincrange: string (nullable = true)\n",
      " |-- GEREG_GEDIV: string (nullable = true)\n",
      " |-- PTDTRACE: string (nullable = true)\n",
      " |-- GEDIVid: string (nullable = true)\n",
      " |-- geodivision: string (nullable = true)\n",
      "\n"
     ]
    }
   ],
   "source": [
    "joinType = \"outer\"\n",
    "joinexpression = df2l[\"GEREG_GEDIV\"]==geodivision['GEDIVid']\n",
    "df2m =df2l.join(geodivision,joinexpression,joinType)\n",
    "df2m.printSchema()"
   ]
  },
  {
   "cell_type": "code",
   "execution_count": 53,
   "id": "697a25c0",
   "metadata": {},
   "outputs": [],
   "source": [
    "df2n=df2m.select(\"HRHHID\",\"HRYEAR4\",\"NewFullDate\",\"outcome\",\"housing\",\"housetype\",\"HETELHHD\",\"HETELAVL\",\"HEPHONEO\",\"interviewtype\",\"famincrange\"\n",
    "           ,\"geodivision\",\"PTDTRACE\")"
   ]
  },
  {
   "cell_type": "code",
   "execution_count": 54,
   "id": "0e94ee22",
   "metadata": {},
   "outputs": [
    {
     "name": "stdout",
     "output_type": "stream",
     "text": [
      "root\n",
      " |-- HRHHID: string (nullable = true)\n",
      " |-- HRYEAR4: string (nullable = true)\n",
      " |-- NewFullDate: date (nullable = true)\n",
      " |-- outcome: string (nullable = true)\n",
      " |-- housing: string (nullable = true)\n",
      " |-- housetype: string (nullable = true)\n",
      " |-- HETELHHD: string (nullable = true)\n",
      " |-- HETELAVL: string (nullable = true)\n",
      " |-- HEPHONEO: string (nullable = true)\n",
      " |-- interviewtype: string (nullable = true)\n",
      " |-- famincrange: string (nullable = true)\n",
      " |-- geodivision: string (nullable = true)\n",
      " |-- PTDTRACE: string (nullable = true)\n",
      "\n"
     ]
    }
   ],
   "source": [
    "df2n.printSchema(\n",
    ")"
   ]
  },
  {
   "cell_type": "code",
   "execution_count": 55,
   "id": "5f8bb83e",
   "metadata": {},
   "outputs": [
    {
     "name": "stdout",
     "output_type": "stream",
     "text": [
      "root\n",
      " |-- HRHHID: string (nullable = true)\n",
      " |-- HRYEAR4: string (nullable = true)\n",
      " |-- NewFullDate: date (nullable = true)\n",
      " |-- outcome: string (nullable = true)\n",
      " |-- housing: string (nullable = true)\n",
      " |-- housetype: string (nullable = true)\n",
      " |-- HETELHHD: string (nullable = true)\n",
      " |-- HETELAVL: string (nullable = true)\n",
      " |-- HEPHONEO: string (nullable = true)\n",
      " |-- interviewtype: string (nullable = true)\n",
      " |-- famincrange: string (nullable = true)\n",
      " |-- geodivision: string (nullable = true)\n",
      " |-- PTDTRACE: string (nullable = true)\n",
      " |-- PTDTRACEid: string (nullable = true)\n",
      " |-- race: string (nullable = true)\n",
      "\n"
     ]
    }
   ],
   "source": [
    "joinType = \"outer\"\n",
    "joinexpression = df2n[\"PTDTRACE\"]==Race['PTDTRACEid']\n",
    "df2o =df2n.join(Race,joinexpression,joinType)\n",
    "df2o.printSchema()"
   ]
  },
  {
   "cell_type": "code",
   "execution_count": 56,
   "id": "b52c0e8c",
   "metadata": {},
   "outputs": [],
   "source": [
    "df2p=df2o.select(\"HRHHID\",\"HRYEAR4\",\"NewFullDate\",\"outcome\",\"housing\",\"housetype\",\"HETELHHD\",\"HETELAVL\",\"HEPHONEO\",\"interviewtype\",\"famincrange\"\n",
    "           ,\"geodivision\",\"race\")"
   ]
  },
  {
   "cell_type": "code",
   "execution_count": 57,
   "id": "97d3033f",
   "metadata": {},
   "outputs": [
    {
     "name": "stdout",
     "output_type": "stream",
     "text": [
      "+------+-------+-----------+-----------------------------------------------------------------+--------------------------------------+---------+--------+--------+--------+-------------+-----------+-----------+----+\n",
      "|HRHHID|HRYEAR4|NewFullDate|outcome                                                          |housing                               |housetype|HETELHHD|HETELAVL|HEPHONEO|interviewtype|famincrange|geodivision|race|\n",
      "+------+-------+-----------+-----------------------------------------------------------------+--------------------------------------+---------+--------+--------+--------+-------------+-----------+-----------+----+\n",
      "|null  |null   |null       |COMPLETE BUT PERSONAL VISIT REQUESTED NEXT MONTH                 |null                                  |null     |null    |null    |null    |null         |null       |null       |null|\n",
      "|null  |null   |null       |LABOR FORCE COMPLETE, SUPPLEMENT INCOMPLETE - CATI               |null                                  |null     |null    |null    |null    |null         |null       |null       |null|\n",
      "|null  |null   |null       |LF COMPLETE, SUPPLEMENT DK ITEMS INCOMPLETE AT CLOSEOUT–ASEC ONLY|null                                  |null     |null    |null    |null    |null         |null       |null       |null|\n",
      "|null  |null   |null       |CALLBACK NEEDED                                                  |null                                  |null     |null    |null    |null    |null         |null       |null       |null|\n",
      "|null  |null   |null       |LABOR FORCE COMPLETE, - SUPPL. INCOMPLETE - CAPI                 |null                                  |null     |null    |null    |null    |null         |null       |null       |null|\n",
      "|null  |null   |null       |BUILT AFTER APRIL 1, 2000                                        |null                                  |null     |null    |null    |null    |null         |null       |null       |null|\n",
      "|null  |null   |null       |REMOVED DURING SUB-SAMPLING                                      |null                                  |null     |null    |null    |null    |null         |null       |null       |null|\n",
      "|null  |null   |null       |UNIT ALREADY HAD A CHANCE OF SELECTION                           |null                                  |null     |null    |null    |null    |null         |null       |null       |null|\n",
      "|null  |null   |null       |null                                                             |OTHER UNIT                            |null     |null    |null    |null    |null         |null       |null       |null|\n",
      "|null  |null   |null       |null                                                             |UNIT NOT PERM. IN TRANSIENT HOTL, MOTL|null     |null    |null    |null    |null         |null       |null       |null|\n",
      "+------+-------+-----------+-----------------------------------------------------------------+--------------------------------------+---------+--------+--------+--------+-------------+-----------+-----------+----+\n",
      "only showing top 10 rows\n",
      "\n"
     ]
    }
   ],
   "source": [
    "df2p.show(10,False)"
   ]
  },
  {
   "cell_type": "code",
   "execution_count": 58,
   "id": "03ef99e1",
   "metadata": {},
   "outputs": [],
   "source": [
    "df2p.createOrReplaceTempView(\"US_CPS\")"
   ]
  },
  {
   "cell_type": "code",
   "execution_count": 63,
   "id": "e9cb5342",
   "metadata": {},
   "outputs": [
    {
     "name": "stdout",
     "output_type": "stream",
     "text": [
      "+---------------+-------+-----------+----------------+--------------------+---------+--------+--------+--------+-------------+----------------+------------------+----------+\n",
      "|         HRHHID|HRYEAR4|NewFullDate|         outcome|             housing|housetype|HETELHHD|HETELAVL|HEPHONEO|interviewtype|     famincrange|       geodivision|      race|\n",
      "+---------------+-------+-----------+----------------+--------------------+---------+--------+--------+--------+-------------+----------------+------------------+----------+\n",
      "|000110206593381|   2017| 2017-12-12|LANGUAGE BARRIER|HOUSE, APARTMENT,...|     null|      -1|      -1|       0|     PERSONAL|            null|EAST SOUTH CENTRAL|      null|\n",
      "|000004795110719|   2017| 2017-12-12|   CAPI COMPLETE|HOUSE, APARTMENT,...|     null|       1|      -1|       1|    TELEPHONE|30,000 TO 34,999|EAST SOUTH CENTRAL|White Only|\n",
      "|000004795110719|   2017| 2017-12-12|   CAPI COMPLETE|HOUSE, APARTMENT,...|     null|       1|      -1|       1|    TELEPHONE|30,000 TO 34,999|EAST SOUTH CENTRAL|White Only|\n",
      "|000071691004941|   2017| 2017-12-12|   CAPI COMPLETE|HOUSE, APARTMENT,...|     null|       1|      -1|       1|     PERSONAL|40,000 TO 49,999|EAST SOUTH CENTRAL|White Only|\n",
      "|000071691004941|   2017| 2017-12-12|   CAPI COMPLETE|HOUSE, APARTMENT,...|     null|       1|      -1|       1|     PERSONAL|40,000 TO 49,999|EAST SOUTH CENTRAL|White Only|\n",
      "|000071691004941|   2017| 2017-12-12|   CAPI COMPLETE|HOUSE, APARTMENT,...|     null|       1|      -1|       1|     PERSONAL|40,000 TO 49,999|EAST SOUTH CENTRAL|White Only|\n",
      "|000110284815680|   2017| 2017-12-12|   CAPI COMPLETE|HOUSE, APARTMENT,...|     null|       1|      -1|       1|     PERSONAL|30,000 TO 34,999|EAST SOUTH CENTRAL|White Only|\n",
      "|000110177987986|   2017| 2017-12-12|   CAPI COMPLETE|HOUSE, APARTMENT,...|     null|       1|      -1|       1|     PERSONAL|75,000 TO 99,999|EAST SOUTH CENTRAL|Black Only|\n",
      "|000110177987986|   2017| 2017-12-12|   CAPI COMPLETE|HOUSE, APARTMENT,...|     null|       1|      -1|       1|     PERSONAL|75,000 TO 99,999|EAST SOUTH CENTRAL|Black Only|\n",
      "|000110327856469|   2017| 2017-12-12|   CAPI COMPLETE|HOUSE, APARTMENT,...|     null|       1|      -1|       1|     PERSONAL|12,500 TO 14,999|EAST SOUTH CENTRAL|Black Only|\n",
      "+---------------+-------+-----------+----------------+--------------------+---------+--------+--------+--------+-------------+----------------+------------------+----------+\n",
      "\n"
     ]
    }
   ],
   "source": [
    "spark.sql(\"select * from US_CPS where HRHHID is not null limit 10;\").show()"
   ]
  },
  {
   "cell_type": "code",
   "execution_count": 72,
   "id": "3c38834d",
   "metadata": {},
   "outputs": [
    {
     "name": "stdout",
     "output_type": "stream",
     "text": [
      "+----------------+----------+\n",
      "|     famincrange|responders|\n",
      "+----------------+----------+\n",
      "|20,000 TO 24,999|      6312|\n",
      "|60,000 TO 74,999|     13442|\n",
      "|  7,500 TO 9,999|      2277|\n",
      "|            null|     20391|\n",
      "|30,000 TO 34,999|      6743|\n",
      "|75,000 TO 99,999|     16557|\n",
      "|15,000 TO 19,999|      4518|\n",
      "|35,000 TO 39,999|      6620|\n",
      "| 150,000 OR MORE|     15704|\n",
      "|40,000 TO 49,999|      9788|\n",
      "+----------------+----------+\n",
      "\n"
     ]
    }
   ],
   "source": [
    "# count by family income range\n",
    "spark.sql(\"select famincrange,count(*) as responders from US_CPS where HRHHID is not null group by famincrange limit 10;\").show()"
   ]
  },
  {
   "cell_type": "code",
   "execution_count": 76,
   "id": "d72d5b74",
   "metadata": {},
   "outputs": [
    {
     "name": "stdout",
     "output_type": "stream",
     "text": [
      "+------------------+--------------------+----------+\n",
      "|       geodivision|                race|responders|\n",
      "+------------------+--------------------+----------+\n",
      "|WEST NORTH CENTRAL|Hawaiian/Pacific ...|        15|\n",
      "|          MOUNTAIN|Hawaiian/Pacific ...|        45|\n",
      "|    SOUTH ATLANTIC|                null|      4309|\n",
      "|    SOUTH ATLANTIC|         White-Asian|        73|\n",
      "|           PACIFIC|          White Only|     13214|\n",
      "|    SOUTH ATLANTIC|American Indian, ...|       127|\n",
      "|WEST NORTH CENTRAL|          White Only|      9884|\n",
      "|WEST SOUTH CENTRAL|            White-HP|         7|\n",
      "|   MIDDLE ATLANTIC|            Asian-HP|         1|\n",
      "|WEST NORTH CENTRAL|              W-B-AI|         3|\n",
      "+------------------+--------------------+----------+\n",
      "\n"
     ]
    }
   ],
   "source": [
    "# count by geographical division and race\n",
    "spark.sql(\"select geodivision,race,count(*) as responders from US_CPS where HRHHID is not null group by geodivision,race limit 10;\").show()"
   ]
  },
  {
   "cell_type": "code",
   "execution_count": 77,
   "id": "b2bb2be0",
   "metadata": {},
   "outputs": [
    {
     "name": "stdout",
     "output_type": "stream",
     "text": [
      "+----------+\n",
      "|responders|\n",
      "+----------+\n",
      "|       633|\n",
      "+----------+\n",
      "\n"
     ]
    }
   ],
   "source": [
    "# count of responders with no telephone in the house, but access elsewhere and can grant interview\n",
    "spark.sql(\"select count(*) as responders from US_CPS where HETELHHD = 2 and HETELAVL =1 and HEPHONEO =1 and HRHHID is not null;\").show()"
   ]
  },
  {
   "cell_type": "code",
   "execution_count": 79,
   "id": "bfa1fda6",
   "metadata": {},
   "outputs": [
    {
     "name": "stdout",
     "output_type": "stream",
     "text": [
      "+----------+\n",
      "|responders|\n",
      "+----------+\n",
      "|         0|\n",
      "+----------+\n",
      "\n"
     ]
    }
   ],
   "source": [
    "# count of responders with access to telephone and can't grant interview\n",
    "spark.sql(\"select count(*) as responders from US_CPS where HETELHHD = 1 and HETELAVL =1 and HEPHONEO =2 and HRHHID is not null;\").show()"
   ]
  },
  {
   "cell_type": "code",
   "execution_count": null,
   "id": "8faf961a",
   "metadata": {},
   "outputs": [],
   "source": []
  }
 ],
 "metadata": {
  "kernelspec": {
   "display_name": "Python 3 (ipykernel)",
   "language": "python",
   "name": "python3"
  },
  "language_info": {
   "codemirror_mode": {
    "name": "ipython",
    "version": 3
   },
   "file_extension": ".py",
   "mimetype": "text/x-python",
   "name": "python",
   "nbconvert_exporter": "python",
   "pygments_lexer": "ipython3",
   "version": "3.9.13"
  }
 },
 "nbformat": 4,
 "nbformat_minor": 5
}
